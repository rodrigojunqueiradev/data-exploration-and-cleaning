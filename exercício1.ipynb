{
 "cells": [
  {
   "cell_type": "code",
   "execution_count": 2,
   "id": "6e354558",
   "metadata": {},
   "outputs": [
    {
     "name": "stdout",
     "output_type": "stream",
     "text": [
      "0\n",
      "1\n",
      "2\n",
      "3\n",
      "4\n"
     ]
    }
   ],
   "source": [
    "for counter in range(5):\n",
    "    print(counter)"
   ]
  },
  {
   "cell_type": "code",
   "execution_count": 4,
   "id": "b13f7130",
   "metadata": {},
   "outputs": [
    {
     "data": {
      "text/plain": [
       "{'apples': 5, 'oranges': 8, 'bananas': 13}"
      ]
     },
     "execution_count": 4,
     "metadata": {},
     "output_type": "execute_result"
    }
   ],
   "source": [
    "example_dict={'apples':5, 'oranges':8, 'bananas':13}\n",
    "example_dict"
   ]
  },
  {
   "cell_type": "code",
   "execution_count": 5,
   "id": "d2cdfc61",
   "metadata": {},
   "outputs": [
    {
     "data": {
      "text/plain": [
       "['apples', 'oranges', 'bananas']"
      ]
     },
     "execution_count": 5,
     "metadata": {},
     "output_type": "execute_result"
    }
   ],
   "source": [
    "# Convertendo o dicionário em uma lista\n",
    "dict_to_list = list(example_dict)\n",
    "dict_to_list"
   ]
  },
  {
   "cell_type": "code",
   "execution_count": 6,
   "id": "7653a83e",
   "metadata": {},
   "outputs": [
    {
     "data": {
      "text/plain": [
       "['apples', 'oranges', 'bananas', 'pears']"
      ]
     },
     "execution_count": 6,
     "metadata": {},
     "output_type": "execute_result"
    }
   ],
   "source": [
    "dict_to_list = dict_to_list + ['pears']\n",
    "dict_to_list"
   ]
  },
  {
   "cell_type": "code",
   "execution_count": 7,
   "id": "89dd12fb",
   "metadata": {},
   "outputs": [
    {
     "data": {
      "text/plain": [
       "['apples', 'bananas', 'oranges', 'pears']"
      ]
     },
     "execution_count": 7,
     "metadata": {},
     "output_type": "execute_result"
    }
   ],
   "source": [
    "# Classificando a lista de frutas em ordem alfabética\n",
    "sorted(dict_to_list)"
   ]
  }
 ],
 "metadata": {
  "kernelspec": {
   "display_name": "Python 3 (ipykernel)",
   "language": "python",
   "name": "python3"
  },
  "language_info": {
   "codemirror_mode": {
    "name": "ipython",
    "version": 3
   },
   "file_extension": ".py",
   "mimetype": "text/x-python",
   "name": "python",
   "nbconvert_exporter": "python",
   "pygments_lexer": "ipython3",
   "version": "3.11.5"
  }
 },
 "nbformat": 4,
 "nbformat_minor": 5
}
